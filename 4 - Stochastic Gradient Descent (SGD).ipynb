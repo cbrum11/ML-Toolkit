{
 "cells": [
  {
   "cell_type": "markdown",
   "metadata": {},
   "source": [
    "# Stochastic Gradient Descent (SGD)\n",
    "\n",
    "**Stochastic Gradient Descent** is a form of gradient descent that allows us to update the Weights Matrix of our scoring function multiple times per epoch of our dataset.  This is accomplished by feeding the scoring function smaller batches of our dataset (as opposed to the entire training dataset).  We calculate the gradient of these smaller batches, adust our Weights Matrix and Bias Vector based on this smaller batch, and use these adjustments when feeding in the next batch.\n",
    "\n",
    "Typical batch sizes include 32, 64, 128, and 256 (powers of 2 allow the optimization of linear algebra libraries... why?)\n",
    "\n",
    "The benefits include faster training time, increased accuracy, and the reduction of variance in the parameter update (explain - more stable convergence).  We can sort of conceptualize this as combining loss landscapes in small chunks to bring the resolution of the total loss landscape into view.\n",
    "\n",
    "The pseudo-code of this implementation would be:\n",
    "\n",
    "                               while True:\n",
    "                                   batch = next_training_batch(data,256)\n",
    "                                   Wgradient = evaluate_gradient(loss, batch, W)\n",
    "                                   W += -alpha * Wgradient\n",
    "\n",
    "(Insert cool resolution image here).\n",
    "\n",
    "SGD is implemented below, which appears almost identical to the implementation of GD.  Where these differ is noted."
   ]
  },
  {
   "cell_type": "code",
   "execution_count": 27,
   "metadata": {},
   "outputs": [],
   "source": [
    "from sklearn.model_selection import train_test_split\n",
    "from sklearn.metrics import classification_report\n",
    "from sklearn.datasets import make_blobs\n",
    "import matplotlib.pyplot as plt\n",
    "import numpy as np\n",
    "import argparse\n",
    "\n",
    "def sigmoid_activation(x):\n",
    "    # compute the sigmoid activation value for a given input\n",
    "    return 1.0 / (1 + np.exp(-x))\n",
    "\n",
    "def sigmoid_deriv(x):\n",
    "    # copute the derivate of the sigmoid function ASSUMING\n",
    "    # that the input 'x' has already been passed through the sigmoid\n",
    "    # activation funciton\n",
    "    return x*(1 - x)\n",
    "\n",
    "def predict(X, W):\n",
    "    # take the dot product between our features and weight matrix\n",
    "    preds = sigmoid_activation(X.dot(W))\n",
    "    \n",
    "    # apply a step function to threshold the outputs to binary\n",
    "    # class labels\n",
    "    preds[preds <= 0.5] = 0\n",
    "    preds[preds > 0] = 1\n",
    "    \n",
    "    # return the predictions\n",
    "    return preds\n"
   ]
  },
  {
   "cell_type": "markdown",
   "metadata": {},
   "source": [
    "# Adding next_batch Function\n",
    "\n",
    "This function allows us segment our training data into batches so we can update our Weights Matrix multiple times per epoch."
   ]
  },
  {
   "cell_type": "code",
   "execution_count": 28,
   "metadata": {},
   "outputs": [],
   "source": [
    "# New function added for Stochastic Gradient Descent\n",
    "\n",
    "def next_batch (X, y, batchSize):\n",
    "    # loop over our dataset 'X' in mini-batchs, yielding a tuple of\n",
    "    # the current batched data and labels\n",
    "    \n",
    "    # They yield keyword in Python returns a \"generator object\".  Basicaly, this object does not store all the\n",
    "    # values in memory, it \"generates\" them on the fly.  So, when the function is called, it doesn't\n",
    "    # actually run, it simply builds the generator object.  Then each time the generator obeject is looped through\n",
    "    # it returns the next value in the generator.  You can only move through a generator once.\n",
    "    \n",
    "    # Generator objects (and hence the keyword \"yield\") are appropriate when you expect to have a ton of data\n",
    "    # that you only need to move through once.  They return the next iterable in the object.\n",
    "    \n",
    "    for i in np.arange(0, X.shape[0], batchSize):\n",
    "        yield (X[i:i + batchSize], y[i:i + batchSize])\n",
    "        \n"
   ]
  },
  {
   "cell_type": "markdown",
   "metadata": {},
   "source": [
    "# Adding batch-size Argument\n",
    "\n",
    "Here we add a batch-size argment to our argument parser.  In practice the batch-size will roughly be proportional to the amount of data you can load into ram at a time.  If running on GPU's this becomes less important than running on a CPU (need to understand how to calculate appropriate batch size).  Typical batch sizes are factors of 2 (as mentioned above) to take advantage of optimization possible in linear algebra liabraries."
   ]
  },
  {
   "cell_type": "code",
   "execution_count": 29,
   "metadata": {},
   "outputs": [],
   "source": [
    "# Construct the argument parse and parse the arguments\n",
    "\n",
    "ap = argparse.ArgumentParser()\n",
    "ap.add_argument(\"-e\", \"--epochs\", type=float, default=100, help=\"# of epochs\")\n",
    "ap.add_argument(\"-a\", \"--alpha\", type=float, default=0.01, help=\"learning rate\")\n",
    "\n",
    "# Add argument for SGD\n",
    "ap.add_argument(\"-b\", \"--batch-size\", type=int, default=32, help=\"size of SGD mini-batches\")\n",
    "\n",
    "args = vars(ap.parse_args)"
   ]
  },
  {
   "cell_type": "code",
   "execution_count": 30,
   "metadata": {},
   "outputs": [
    {
     "name": "stdout",
     "output_type": "stream",
     "text": [
      "[INFO]... Training\n"
     ]
    }
   ],
   "source": [
    "# Generate a 2-class classification problem with 1000 data points,\n",
    "# where each data point is a 2D feature vector\n",
    "\n",
    "(X, y) = make_blobs(n_samples=1000, n_features=2, centers = 2, cluster_std = 1.5, random_state=1)\n",
    "\n",
    "# Reshpae y labels from a single array of 0's and 1's to a 1D np array column vector with 1000 rows, \n",
    "# each containing a single 0 or 1\n",
    "\n",
    "y = y.reshape((y.shape[0],1))\n",
    "\n",
    "# Insert a column of 1's as the last entry in the feature\n",
    "# matrix -- this litter trick allows us to treat the bias\n",
    "# as a trainable parameter within the weight matrix\n",
    "\n",
    "# np.c_ appends np arrays together\n",
    "# np.ones creates a 1 dimension np array of 1's\n",
    "\n",
    "# The below function creates an np array of 1's the length of which is equal to the number of columns in X.\n",
    "# It then appends these 1's to each Xi as an additional feature.  We're working towards the Bias Trick here.\n",
    "\n",
    "X = np.c_[X, np.ones((X.shape[0]))]\n",
    "(trainX, testX, trainY, testY) = train_test_split(X,y, test_size=0.5, random_state=42)\n",
    "\n",
    "# Initialize the weights matrix with normally distributed numbers\n",
    "# The amount of weights matrix rows should match the input data matrix columns\n",
    "# and list of losses\n",
    "\n",
    "print(\"[INFO]... Training\")\n",
    "W = np.random.randn(X.shape[1],1)\n",
    "losses = []"
   ]
  },
  {
   "cell_type": "markdown",
   "metadata": {},
   "source": [
    "# Mini-Batch Updates\n",
    "\n",
    "Here we see the heart of the Stochastic Gradient Descent change.  We nudge our Weights Matrix values based on the gradient found for each mini-batch of our dataset.  This allows us to update the Weights multiple times per epoch.  We averge the loss over all the mini-batches to retrieve the average loss per epoch.  This is later plotted."
   ]
  },
  {
   "cell_type": "code",
   "execution_count": 31,
   "metadata": {},
   "outputs": [
    {
     "name": "stdout",
     "output_type": "stream",
     "text": [
      "[INFO] epoch=1, loss=15.1613703\n",
      "[INFO] epoch=5, loss=0.0663245\n",
      "[INFO] epoch=10, loss=0.0321855\n",
      "[INFO] epoch=15, loss=0.0291331\n",
      "[INFO] epoch=20, loss=0.0280015\n",
      "[INFO] epoch=25, loss=0.0273127\n",
      "[INFO] epoch=30, loss=0.0267764\n",
      "[INFO] epoch=35, loss=0.0263074\n",
      "[INFO] epoch=40, loss=0.0258747\n",
      "[INFO] epoch=45, loss=0.0254655\n",
      "[INFO] epoch=50, loss=0.0250738\n",
      "[INFO] epoch=55, loss=0.0246965\n",
      "[INFO] epoch=60, loss=0.0243320\n",
      "[INFO] epoch=65, loss=0.0239791\n",
      "[INFO] epoch=70, loss=0.0236370\n",
      "[INFO] epoch=75, loss=0.0233050\n",
      "[INFO] epoch=80, loss=0.0229826\n",
      "[INFO] epoch=85, loss=0.0226693\n",
      "[INFO] epoch=90, loss=0.0223648\n",
      "[INFO] epoch=95, loss=0.0220685\n",
      "[INFO] epoch=100, loss=0.0217802\n"
     ]
    }
   ],
   "source": [
    "# Loop for the desired number of Epochs\n",
    "# Follow the variable types here...\n",
    "\n",
    "args['epochs'] = 100\n",
    "args['alpha'] = 0.01\n",
    "args['batch-size'] = 32\n",
    "\n",
    "for epoch in np.arange(0, args[\"epochs\"]):\n",
    "    # Initialize the total loss for the epoch\n",
    "    epochLoss = []\n",
    "    \n",
    "    # Loop over our data in batches\n",
    "    for (batchX, batchY) in next_batch(trainX, trainY, args[\"batch-size\"]):\n",
    "        # Take the dot product between our current batch of features 'X' and\n",
    "        # our weight matrix 'W', then pass this value through\n",
    "        # our sigmoid activation function, thereby giving us\n",
    "        # our predictions on the dataset\n",
    "        preds = sigmoid_activation(batchX.dot(W))\n",
    "    \n",
    "        # Now that we have our predictions, we need to determine\n",
    "        # the 'error', which is the difference between our predictions\n",
    "        # and the true values.\n",
    "        error = preds - batchY\n",
    "        batch_loss = np.sum(error ** 2)\n",
    "        epochLoss.append(batch_loss)\n",
    "    \n",
    "        # The gradient descent update is the dot product between our (1) current\n",
    "        # batch of features and (2) the error of the sigmoid derivate \n",
    "        # of our predictions\n",
    "        d = error*sigmoid_deriv(preds)\n",
    "        gradient = batchX.T.dot(d)\n",
    "    \n",
    "        # In the update state, all we need to do is \"nudge\" the Weight\n",
    "        # matrix in the negative direction of the gradient (hence the\n",
    "        # term \"gradient descent\" by taking a small step towards a set\n",
    "        # of \"more optimal\" parameters)\n",
    "        W += -args[\"alpha\"] * gradient\n",
    "    \n",
    "    # update our loss history by taking the average loss across all batches\n",
    "    loss = np.average(epochLoss)\n",
    "    losses.append(loss)\n",
    "    \n",
    "    # Check to see if an update should be displayed\n",
    "    if epoch == 0 or (epoch + 1) % 5 == 0:\n",
    "        print(\"[INFO] epoch={}, loss={:.7f}\".format(int(epoch+1),loss))"
   ]
  },
  {
   "cell_type": "code",
   "execution_count": 32,
   "metadata": {},
   "outputs": [
    {
     "name": "stdout",
     "output_type": "stream",
     "text": [
      "[INFO] evaluating...\n",
      "              precision    recall  f1-score   support\n",
      "\n",
      "           0       1.00      1.00      1.00       250\n",
      "           1       1.00      1.00      1.00       250\n",
      "\n",
      "   micro avg       1.00      1.00      1.00       500\n",
      "   macro avg       1.00      1.00      1.00       500\n",
      "weighted avg       1.00      1.00      1.00       500\n",
      "\n"
     ]
    }
   ],
   "source": [
    "# evaluate our model\n",
    "print(\"[INFO] evaluating...\")\n",
    "preds = predict(testX, W)\n",
    "print(classification_report(testY, preds))"
   ]
  },
  {
   "cell_type": "code",
   "execution_count": 33,
   "metadata": {},
   "outputs": [
    {
     "data": {
      "image/png": "[encoded data removed]",
      "text/plain": [
       "<Figure size 432x288 with 1 Axes>"
      ]
     },
     "metadata": {},
     "output_type": "display_data"
    },
    {
     "data": {
      "image/png": "[encoded data removed]",
      "text/plain": [
       "<Figure size 432x288 with 1 Axes>"
      ]
     },
     "metadata": {},
     "output_type": "display_data"
    }
   ],
   "source": [
    "args[\"epochs\"] = 100\n",
    "\n",
    "# Plot the (testing) classification data\n",
    "plt.style.use(\"ggplot\")\n",
    "plt.figure()\n",
    "plt.title(\"Data\")\n",
    "plt.scatter(testX[:,0],testX[:,1], marker=\"o\", c=testY[:,0], s=30)\n",
    "\n",
    "# Construct a figure that plots the loss over time\n",
    "plt.style.use(\"ggplot\")\n",
    "plt.figure()\n",
    "plt.plot(np.arange(0,args[\"epochs\"]), losses)\n",
    "plt.title(\"Training Loss\")\n",
    "plt.xlabel(\"Epoch #\")\n",
    "plt.ylabel(\"Loss\")\n",
    "plt.show()"
   ]
  },
  {
   "cell_type": "markdown",
   "metadata": {},
   "source": [
    "# Evaluating the Model\n",
    "\n",
    "If we compare our new **Stochastic Gradient Descent** model with our previous **Gradient Descent** model, we see we end up with an epoch loss of apprx .02 after 100 epochs as opposed to a loss of apprx. 0.26 after 100 epochs.  This is a huge improvement (and due to updating the Weights Matrix multiple times per epoch)."
   ]
  },
  {
   "cell_type": "code",
   "execution_count": null,
   "metadata": {},
   "outputs": [],
   "source": []
  }
 ],
 "metadata": {
  "kernelspec": {
   "display_name": "Python 3",
   "language": "python",
   "name": "python3"
  },
  "language_info": {
   "codemirror_mode": {
    "name": "ipython",
    "version": 3
   },
   "file_extension": ".py",
   "mimetype": "text/x-python",
   "name": "python",
   "nbconvert_exporter": "python",
   "pygments_lexer": "ipython3",
   "version": "3.7.3"
  }
 },
 "nbformat": 4,
 "nbformat_minor": 2
}
