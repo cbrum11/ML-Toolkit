{
 "cells": [
  {
   "cell_type": "markdown",
   "metadata": {},
   "source": [
    "# Understanding Loss Functions\n",
    "\n",
    "*The goal here is to understand:*\n",
    "\n",
    "1. Hinge Loss Function\n",
    "2. Squared Hinge Loss Function\n",
    "3. Softmax/Cross Entropy Loss Function\n",
    "\n",
    "The purpose of the loss function is to quantify the goodness/badness of the values/outputs of the scoring function.  As a review, the scoring function takes a data-point (image) as an input and outputs a single value per **label** of the dataset (multiple values per image/data-point).  For example, if we had 3 labels:\n",
    "\n",
    "                                            [ dog, cat, panda ] \n",
    "\n",
    "and we fed the scoring function a single image, we would retrieve 3 prediction values.\n",
    "\n",
    "                IMAGE ---> [SCORING FUNCTION]  ---> dog prediction = 2.03\n",
    "                                               ---> cat prediction = 1.02\n",
    "                                               ---> panda prediction = 30.25\n",
    "\n",
    "\n",
    "We now need a way to quantify the goodness/badness of these prediction values and derive meaning from these prediction values.  The loss function takes these values (the outputs of the scoring function) as it's inputs.  The loss function then outputs a single value for each of the images fed through the scoring function.  \n",
    "\n",
    "Averaging the loss function values for all data-point/images fed through the scoring function gives the final loss function value.  Now that we get the general idea of a \"loss function\", let's look at a few different kind of loss functions.\n",
    "\n",
    "First, let's take on the **Hinge Loss Function**, defined below:"
   ]
  },
  {
   "cell_type": "markdown",
   "metadata": {},
   "source": [
    "# Hinge Loss Function\n",
    "<img src=\"images/Hinge_Loss_Function.png\">"
   ]
  },
  {
   "cell_type": "markdown",
   "metadata": {},
   "source": [
    "To explore the Hinge Loss function we create a table of fake scoring function values.  *Remember, the inputs to the loss function are the scoring function values.*\n",
    "\n",
    "|.    |IMAGE1|IMAGE2|IMAGE3|\n",
    "|-----|------|------|------|\n",
    "|DOG  |4.26  |3.76  |-2.37 |\n",
    "|-----|------|------|------|\n",
    "|CAT  |1.33  |-1.20 |1.03  |\n",
    "|-----|------|------|------|\n",
    "|PANDA|-1.01 |-3.81 |-2.27 |"
   ]
  },
  {
   "cell_type": "code",
   "execution_count": 129,
   "metadata": {},
   "outputs": [
    {
     "name": "stdout",
     "output_type": "stream",
     "text": [
      "0\n",
      "5.96\n",
      "5.199999999999999\n"
     ]
    }
   ],
   "source": [
    "import numpy as np\n",
    "import math\n",
    "from matplotlib import pyplot as plt\n",
    "\n",
    "# Let's assume image 1 is a dog, image 2 is a cat, and image 3 is a panda.\n",
    "# Our Hinge Loss function formula can be re-stated in plain english to be as follows\n",
    "#\n",
    "#   For each image/data-point that moves through the scoring function:\n",
    "#\n",
    "#   1. Take each scoring function value associated with the wrong label and subtract it from the scoring function\n",
    "#      value associated with the correct label\n",
    "#   2. Add 1 to this value and make sure the value is clamped above 0\n",
    "#   3. Add the values for each wrong label up to get a loss function value for that particular image/data-point\n",
    "#\n",
    "# After all images/data-points have been given a loss value, take the average of all loss values as the total loss \n",
    "# function value for the dataset.\n",
    "\n",
    "# Now let's apply the Hinge Loss Function to the example images in the above table\n",
    "\n",
    "img1_loss_value = max(0,1.33-4.26+1) + max(0,-1.01-4.26+1)\n",
    "print(img1_loss_value)\n",
    "img2_loss_value = max(0,3.76--1.20+1) + max(0,-3.81--1.20+1)\n",
    "print(img2_loss_value)\n",
    "img3_loss_value = max(0,-2.37--2.27+1) + max(0,1.03--2.27+1)\n",
    "print(img3_loss_value)"
   ]
  },
  {
   "cell_type": "markdown",
   "metadata": {},
   "source": [
    "### What do these numbers mean?\n",
    "\n",
    "Notice that we said the first image was a dog.  Also notice that the scoring function values for this image (the table) provided the highest value for the label \"dog\".  *Effectively this means, the classifier guessed correctly for the first image.*\n",
    "\n",
    "Also, the first image loss value was calculated to be 0.  **The other images were not guessed correctly and have non-zero loss values.**  This is a rule of the Hinge Loss Function:\n",
    "\n",
    "* **A loss value of 0 means the correct label was applied to the image/data-point**\n",
    "\n",
    "### Hence a common refrain in ML - \"The Goal is to Minimize the Loss Function!\""
   ]
  },
  {
   "cell_type": "code",
   "execution_count": 130,
   "metadata": {},
   "outputs": [
    {
     "name": "stdout",
     "output_type": "stream",
     "text": [
      "3.72\n"
     ]
    }
   ],
   "source": [
    "# Finding the total loss function value by averaging all loss values\n",
    "h_loss_function_value = (img1_loss_value+img2_loss_value+img3_loss_value)/3\n",
    "print(h_loss_function_value)"
   ]
  },
  {
   "cell_type": "markdown",
   "metadata": {},
   "source": [
    "### Interpreting the total loss function value\n",
    "\n",
    "The total loss function value always represents a way to quantify the goodness/badness of our scoring function values.  In other words, a judgement about the predictions our scoring function made on each image.\n",
    "\n",
    "Just as important is to understand that the total loss function value is completely dependent on the particular values of the Weights Matrix and the Bias Vector.  Some combination of specific Weight Matrix values and some combination of specific Bias Vector values caused the scoring function to output the values we found in our table for each image.  If we were to change any number in the Weight Matrix or any number in the Bias Matrix, **the scoring function values would change.  By proxy, the final loss function value would change too.**\n",
    "\n",
    "### This is a huge and fundamental foundation to ML.\n",
    "\n",
    "1. Changing the Weigths Matrix or Bias Vector Values provides different scoring function outputs\n",
    "2. By proxy this also changes the total loss function value since the scoring function outputs **ARE** the loss function inputs\n",
    "3. **Therefore, our goal becomes to adjust the Weights Matrix numbers and Bias Vector numbers to achieve scoring function outputs such that our loss function moves towards 0.**\n",
    "\n",
    "# What does the Hinge Loss Function Look Like?\n",
    "\n",
    "To develop an intuitive sense of how loss functions effect scoring function values, it is helpful to visualize."
   ]
  },
  {
   "cell_type": "code",
   "execution_count": 131,
   "metadata": {},
   "outputs": [
    {
     "data": {
      "image/png": "[encoded data removed]",
      "text/plain": [
       "<Figure size 432x288 with 1 Axes>"
      ]
     },
     "metadata": {
      "needs_background": "light"
     },
     "output_type": "display_data"
    }
   ],
   "source": [
    "# Here we create 50 values between -5 and 5 for X (arbitrarily chosen).  \n",
    "# We then feed each of these X values into the Hinge function to retrieve a corresponding Y value\n",
    "#\n",
    "# The plot of Hinge Loss Function is then displayed\n",
    "\n",
    "x = np.linspace(-5,5,50)\n",
    "y = []\n",
    "for each in x:\n",
    "    y.append(max(0,each+1))\n",
    "plt.plot(x,y)\n",
    "plt.ylim((0,10))\n",
    "plt.title('Hinge Loss Function')\n",
    "plt.show()"
   ]
  },
  {
   "cell_type": "markdown",
   "metadata": {},
   "source": [
    "Don't let the syntax of the Hinge loss function above confuse you: (max(0,each-1)).\n",
    "\n",
    "The variable \"each\" represents *sj-syi* for each image/data-point.  Or, in other words, the sum of the difference between the socring function for the true label of the data-point/image (syi) and the wrong labels for the data-point/image.\n",
    "\n",
    "We also see that the loss function value is increased linearly the further our scoring function values are from the correctly labeled scoring function value. \n",
    "\n",
    "After visualizing the loss function, we see that no penalty is actually applied until our scoring function derives a value greater than 1 - Show later?"
   ]
  },
  {
   "cell_type": "markdown",
   "metadata": {},
   "source": [
    "# Squared Hinge Loss Function\n",
    "\n",
    "The Squared Hinge loss function is very similar to the Hinge Loss Function.\n",
    "<img src=\"images/Hinge_Square_Loss_Function.png\">\n",
    "If we use our same scoring function values to calculate the total loss function value using the Squared Hinge loss function we get...\n"
   ]
  },
  {
   "cell_type": "code",
   "execution_count": 132,
   "metadata": {},
   "outputs": [
    {
     "name": "stdout",
     "output_type": "stream",
     "text": [
      "20.853866666666665\n"
     ]
    }
   ],
   "source": [
    "# Calculate Squared Hinge Loss function value\n",
    "sq_h_loss_function_value = ((img1_loss_value)**2+(img2_loss_value)**2+(img3_loss_value)**2)/3\n",
    "print(sq_h_loss_function_value)"
   ]
  },
  {
   "cell_type": "markdown",
   "metadata": {},
   "source": [
    "## Main Difference B/N Hinge Loss Function and Squared Hinge Loss Function\n",
    "\n",
    "We get a much larger number for the Squared Hinge loss function value.  \n",
    "\n",
    "If we remember that the goal of our classifier is to minimize the loss function, what is this telling us about the Squared Hinge loss function?  \n",
    "\n",
    "It says that, for the exact same scoring function output values, the Squared Hinge loss function says our classifier is worse than the Hinge loss function.  In other words, the Squared Hinge loss function penallizes wrong guesses from the scoring function more than the Hinge loss function.   \n",
    "\n",
    "If you really think about what's happening.  For each image, each of the loss function values is squared before being sumed.  This leads to quadratic growth in the total loss function value (opposed to linear growth from the Hinge loss fuction)."
   ]
  },
  {
   "cell_type": "code",
   "execution_count": 133,
   "metadata": {},
   "outputs": [
    {
     "data": {
      "image/png": "[encoded data removed]",
      "text/plain": [
       "<Figure size 432x288 with 1 Axes>"
      ]
     },
     "metadata": {
      "needs_background": "light"
     },
     "output_type": "display_data"
    }
   ],
   "source": [
    "# Here we create 50 values between -5 and 5 for X (arbitrarily chosen).  \n",
    "# We then feed each of these X values into the Squared Hinge function to retrieve a corresponding Y value\n",
    "#\n",
    "# The plot of Squared Hinge Loss Function is then displayed\n",
    "\n",
    "x = np.linspace(-5,5,50)\n",
    "y = []\n",
    "for each in x:\n",
    "    y.append(max(0,each+1)**2)\n",
    "plt.plot(x,y)\n",
    "plt.ylim((0,10))\n",
    "plt.title('Squared Hinge Loss Function')\n",
    "plt.show()"
   ]
  },
  {
   "cell_type": "markdown",
   "metadata": {},
   "source": [
    "Comparing this graph to the Hinge Loss graph, we see this graph grows exponentially.  This visually shows the point made earlier about the Squared Hinge Loss function penalizing inappropriate scoring values much steeper than the Hinge loss function."
   ]
  },
  {
   "cell_type": "markdown",
   "metadata": {},
   "source": [
    "# SoftMax/Cross Entropy Loss Function"
   ]
  },
  {
   "cell_type": "markdown",
   "metadata": {},
   "source": [
    "Unlike the Hinge and Squared Hinge loss function, the SoftMax/Cross Entropy loss function allows us to quantify the loss function in terms of probabilities (a more intuitive approach).\n",
    "\n",
    "<img src=\"images/Cross_Entropy_Loss_Function.png\">"
   ]
  },
  {
   "cell_type": "markdown",
   "metadata": {},
   "source": [
    "Let's pretend our scoring function gave us the following values for the image of a Panda.  We'll use these to calculate the Cross Entropy loss function value.\n",
    "\n",
    "|SCORING FUNCTION|.     |\n",
    "|----------------|------|\n",
    "|DOG             |-3.44 |\n",
    "|----------------|------|\n",
    "|CAT             |1.16  |\n",
    "|----------------|------|\n",
    "|PANDA           |3.91  |"
   ]
  },
  {
   "cell_type": "code",
   "execution_count": 134,
   "metadata": {},
   "outputs": [
    {
     "name": "stdout",
     "output_type": "stream",
     "text": [
      "0.03206468532786077\n",
      "3.1899332761161845\n",
      "49.89895197340787\n"
     ]
    }
   ],
   "source": [
    "# Finding the Cross Entropy loss function inclues the following steps in plain english\n",
    "\n",
    "# 1. For each scoring function value, raise e to that power\n",
    "# 2. Sum all of these values\n",
    "# 3. Divide each e raised to the power of the scoring function value, by the sum of these values\n",
    "# 4. Take the -ln() of each of these values\n",
    "\n",
    "# First we raise e to the power of each scoring function value to get the \"unnormalized probability\"\n",
    "e_d_score_func_val = np.exp(-3.44)\n",
    "e_c_score_func_val = np.exp(1.16)\n",
    "e_p_score_func_val = np.exp(3.91)\n",
    "print(e_d_score_func_val)\n",
    "print(e_c_score_func_val)\n",
    "print(e_p_score_func_val)"
   ]
  },
  {
   "cell_type": "code",
   "execution_count": 135,
   "metadata": {},
   "outputs": [
    {
     "name": "stdout",
     "output_type": "stream",
     "text": [
      "53.120949934851915\n"
     ]
    }
   ],
   "source": [
    "# Now we sum these values (the denominator of function 8.13)\n",
    "e_scoring_func_sum = e_d_score_func_val+e_c_score_func_val+e_p_score_func_val\n",
    "print(e_scoring_func_sum)"
   ]
  },
  {
   "cell_type": "code",
   "execution_count": 136,
   "metadata": {},
   "outputs": [
    {
     "name": "stdout",
     "output_type": "stream",
     "text": [
      "0.0006036165649745578\n",
      "0.06005038087662875\n",
      "0.9393460025583967\n"
     ]
    }
   ],
   "source": [
    "# Next we find the \"normalized probability\" for each label by dividing the labels scoring function value with the \n",
    "# previously found sum.  The value calculated fromt the panda socring function value here represents that the\n",
    "# classifier is a 93.93% confident the image is a Panda.\n",
    "\n",
    "d_ce_loss_func_val = e_d_score_func_val/e_scoring_func_sum\n",
    "c_ce_loss_func_val = e_c_score_func_val/e_scoring_func_sum\n",
    "p_ce_loss_func_val = e_p_score_func_val/e_scoring_func_sum\n",
    "print(d_ce_loss_func_val)\n",
    "print(c_ce_loss_func_val)\n",
    "print(p_ce_loss_func_val)"
   ]
  },
  {
   "cell_type": "code",
   "execution_count": 137,
   "metadata": {},
   "outputs": [
    {
     "name": "stdout",
     "output_type": "stream",
     "text": [
      "7.412571387817995\n",
      "2.812571387817995\n",
      "0.06257138781799491\n"
     ]
    }
   ],
   "source": [
    "# Finally we take the -log() of each normalized probability\n",
    "d_final_loss_value = -math.log(d_ce_loss_func_val)\n",
    "c_final_loss_value = -math.log(c_ce_loss_func_val)\n",
    "p_final_loss_value = -math.log(p_ce_loss_func_val)\n",
    "\n",
    "print(d_final_loss_value)\n",
    "print(c_final_loss_value)\n",
    "print(p_final_loss_value)"
   ]
  },
  {
   "cell_type": "code",
   "execution_count": 138,
   "metadata": {},
   "outputs": [
    {
     "data": {
      "image/png": "[encoded data removed]",
      "text/plain": [
       "<Figure size 432x288 with 1 Axes>"
      ]
     },
     "metadata": {
      "needs_background": "light"
     },
     "output_type": "display_data"
    }
   ],
   "source": [
    "# Here we create 1000 values between effectively 0 and 1 for X (arbitrarily chosen).  \n",
    "# We then feed each of these X values into the a function of the same form as Cross Entropy\n",
    "# loss and retrieve a corresponding Y value\n",
    "#\n",
    "# The plot of Cross Entropy Loss Function is then displayed\n",
    "\n",
    "x = np.linspace(0.000001,1,1000)\n",
    "y = []\n",
    "for each in x:\n",
    "    y.append(-math.log(each))\n",
    "plt.plot(x,y)\n",
    "plt.ylim((0,10))\n",
    "plt.title('Cross Entropy Loss Function')\n",
    "plt.show()"
   ]
  },
  {
   "cell_type": "markdown",
   "metadata": {},
   "source": [
    "What conclusions can be drawn?"
   ]
  },
  {
   "cell_type": "code",
   "execution_count": null,
   "metadata": {},
   "outputs": [],
   "source": []
  }
 ],
 "metadata": {
  "kernelspec": {
   "display_name": "Python 3",
   "language": "python",
   "name": "python3"
  },
  "language_info": {
   "codemirror_mode": {
    "name": "ipython",
    "version": 3
   },
   "file_extension": ".py",
   "mimetype": "text/x-python",
   "name": "python",
   "nbconvert_exporter": "python",
   "pygments_lexer": "ipython3",
   "version": "3.7.3"
  }
 },
 "nbformat": 4,
 "nbformat_minor": 2
}
