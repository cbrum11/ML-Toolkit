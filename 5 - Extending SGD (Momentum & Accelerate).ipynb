{
 "cells": [
  {
   "cell_type": "markdown",
   "metadata": {},
   "source": [
    "# Extending SGD (Momentum and Accelerate)\n",
    "\n",
    "The primary purpose of extensions to SGD are to accelerate movement to a minimum of the loss space (speed up training time).  Put another way, the goal is to train a model in fewer epochs.\n",
    "\n",
    "1. **Momentum** - focuses on dimensions who's gradients point in the same direction\n",
    "3. **Nesterov Acceleration** - an extension to standard momentum.\n",
    "\n",
    "Momentum strives to *\"increase the strength of Weight Matrix updates for dimensions whose gradients point in the same direction and decrease the strength of updates for dimensions whose gradients switch directions\"*\n",
    "\n",
    "Momentum is often set to 0.9.  Sometimes Momentum is set to 0.5 and changed to 0.9 as the epochs increase.  It is extremely rare to see momentum less than 0.5.d\n",
    "\n",
    "Rule of thumb - anytime you use SGD, use momentum.  It is not as important a hyperparameter as the learning rate or regularization.  Never use Nesterov Acceleration on larger datasets, but it can be ok for smaller datasets."
   ]
  },
  {
   "cell_type": "markdown",
   "metadata": {},
   "source": [
    "For additional understanding of **Momentum** and **Nesterov Acceleration**\n",
    "https://towardsdatascience.com/stochastic-gradient-descent-with-momentum-a84097641a5d\n",
    "    "
   ]
  },
  {
   "cell_type": "markdown",
   "metadata": {},
   "source": [
    "<img src=\"images/Momentum.png\">"
   ]
  },
  {
   "cell_type": "code",
   "execution_count": null,
   "metadata": {},
   "outputs": [],
   "source": []
  }
 ],
 "metadata": {
  "kernelspec": {
   "display_name": "Python 3",
   "language": "python",
   "name": "python3"
  },
  "language_info": {
   "codemirror_mode": {
    "name": "ipython",
    "version": 3
   },
   "file_extension": ".py",
   "mimetype": "text/x-python",
   "name": "python",
   "nbconvert_exporter": "python",
   "pygments_lexer": "ipython3",
   "version": "3.7.3"
  }
 },
 "nbformat": 4,
 "nbformat_minor": 2
}
